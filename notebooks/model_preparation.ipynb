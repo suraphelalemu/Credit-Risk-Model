{
 "cells": [
  {
   "cell_type": "markdown",
   "id": "6f956983",
   "metadata": {},
   "source": [
    "## Modelling"
   ]
  },
  {
   "cell_type": "code",
   "execution_count": 1,
   "id": "f77e81ed",
   "metadata": {},
   "outputs": [],
   "source": [
    "import logging\n",
    "import pandas as pd\n",
    "import os\n",
    "import sys\n",
    "\n",
    "# Add the 'scripts' directory to the Python path for module imports\n",
    "sys.path.append(os.path.abspath(os.path.join('..', 'scripts')))\n",
    "\n",
    "# Import the load_data module\n",
    "try:\n",
    "    from data_loader import load_data\n",
    "    logger_initialized = True\n",
    "except ImportError as e:\n",
    "    logger_initialized = False\n",
    "    print(f\"Error importing 'load_data': {e}\")\n",
    "\n",
    "# Set pandas display options for better visibility\n",
    "pd.set_option('display.max_columns', 200)\n",
    "pd.set_option('display.max_rows', 200)"
   ]
  },
  {
   "cell_type": "code",
   "execution_count": 2,
   "id": "0691dbf7",
   "metadata": {},
   "outputs": [
    {
     "name": "stderr",
     "output_type": "stream",
     "text": [
      "2025-07-02 11:52:26,562 - INFO - Imported necessary libraries.\n",
      "2025-07-02 11:52:26,564 - INFO - 'load_data' module imported successfully.\n"
     ]
    }
   ],
   "source": [
    "# Configure logging\n",
    "def setup_logger(name: str = 'my_logger') -> logging.Logger:\n",
    "    \"\"\"\n",
    "    Set up a logger with INFO level and StreamHandler.\n",
    "    \n",
    "    Parameters:\n",
    "    -----------\n",
    "    name : str\n",
    "        The name of the logger.\n",
    "    \n",
    "    Returns:\n",
    "    --------\n",
    "    logging.Logger\n",
    "        Configured logger instance.\n",
    "    \"\"\"\n",
    "    logger = logging.getLogger(name)\n",
    "    logger.setLevel(logging.INFO)\n",
    "    \n",
    "    # Prevent duplicate handlers\n",
    "    if not logger.hasHandlers():\n",
    "        handler = logging.StreamHandler()\n",
    "        handler.setLevel(logging.INFO)\n",
    "        formatter = logging.Formatter('%(asctime)s - %(levelname)s - %(message)s')\n",
    "        handler.setFormatter(formatter)\n",
    "        logger.addHandler(handler)\n",
    "    \n",
    "    return logger\n",
    "\n",
    "# Initialize logger\n",
    "logger = setup_logger()\n",
    "logger.info(\"Imported necessary libraries.\")\n",
    "\n",
    "# Check and log if 'load_data' was successfully imported\n",
    "if logger_initialized:\n",
    "    logger.info(\"'load_data' module imported successfully.\")\n",
    "else:\n",
    "    logger.warning(\"'load_data' module could not be imported. Check the 'scripts' directory and file availability.\")"
   ]
  },
  {
   "cell_type": "code",
   "execution_count": 5,
   "id": "d7ced776",
   "metadata": {},
   "outputs": [
    {
     "name": "stderr",
     "output_type": "stream",
     "text": [
      "2025-07-02 11:55:12,607 - INFO - 🟢 Starting the data loading process...\n",
      "2025-07-02 11:55:12,901 - INFO - ✅ Data loaded successfully! The dataset contains 95662 rows and 15 columns.\n"
     ]
    },
    {
     "name": "stdout",
     "output_type": "stream",
     "text": [
      "Data successfully loaded from '../data/data.csv' with 95662 rows and 15 columns.\n"
     ]
    }
   ],
   "source": [
    "\n",
    "\n",
    "logger.info(\"🟢 Starting the data loading process...\")\n",
    "df = load_data('../data/data.csv')\n",
    "if not df.empty:\n",
    "    logger.info(f\"✅ Data loaded successfully! The dataset contains {df.shape[0]} rows and {df.shape[1]} columns.\")\n",
    "else:\n",
    "    logger.warning(\"⚠️ Data loading completed, but the dataset is empty.\")\n",
    "\n"
   ]
  },
  {
   "cell_type": "code",
   "execution_count": 6,
   "id": "45b48d5b",
   "metadata": {},
   "outputs": [],
   "source": [
    "df_normalized = pd.read_csv('../data/data.csv')"
   ]
  },
  {
   "cell_type": "code",
   "execution_count": 7,
   "id": "e06c27a8",
   "metadata": {},
   "outputs": [
    {
     "data": {
      "text/plain": [
       "Index(['TransactionId', 'BatchId', 'AccountId', 'SubscriptionId', 'CustomerId',\n",
       "       'CurrencyCode', 'CountryCode', 'ProviderId', 'ProductId',\n",
       "       'ProductCategory', 'ChannelId', 'Amount', 'Value',\n",
       "       'TransactionStartTime', 'PricingStrategy', 'FraudResult'],\n",
       "      dtype='object')"
      ]
     },
     "execution_count": 7,
     "metadata": {},
     "output_type": "execute_result"
    }
   ],
   "source": [
    "df_normalized.columns"
   ]
  },
  {
   "cell_type": "code",
   "execution_count": 9,
   "id": "4b1ab7d5",
   "metadata": {},
   "outputs": [],
   "source": [
    "\n",
    "\n",
    "from credit_scoring_model import CreditScoreRFM\n",
    "\n",
    "# Initialize RFMS object with normalized DataFrame\n",
    "rfm = CreditScoreRFM(df_normalized.reset_index())\n",
    "\n"
   ]
  },
  {
   "cell_type": "code",
   "execution_count": 10,
   "id": "90e61a01",
   "metadata": {},
   "outputs": [
    {
     "name": "stdout",
     "output_type": "stream",
     "text": [
      "Calculated RFM metrics for the first five customers:\n",
      "=========================================================\n"
     ]
    },
    {
     "data": {
      "text/html": [
       "<div>\n",
       "<style scoped>\n",
       "    .dataframe tbody tr th:only-of-type {\n",
       "        vertical-align: middle;\n",
       "    }\n",
       "\n",
       "    .dataframe tbody tr th {\n",
       "        vertical-align: top;\n",
       "    }\n",
       "\n",
       "    .dataframe thead th {\n",
       "        text-align: right;\n",
       "    }\n",
       "</style>\n",
       "<table border=\"1\" class=\"dataframe\">\n",
       "  <thead>\n",
       "    <tr style=\"text-align: right;\">\n",
       "      <th></th>\n",
       "      <th>CustomerId</th>\n",
       "      <th>Recency</th>\n",
       "      <th>Frequency</th>\n",
       "      <th>Monetary</th>\n",
       "    </tr>\n",
       "  </thead>\n",
       "  <tbody>\n",
       "    <tr>\n",
       "      <th>0</th>\n",
       "      <td>CustomerId_4406</td>\n",
       "      <td>0</td>\n",
       "      <td>119</td>\n",
       "      <td>109921.75</td>\n",
       "    </tr>\n",
       "    <tr>\n",
       "      <th>2</th>\n",
       "      <td>CustomerId_4683</td>\n",
       "      <td>81</td>\n",
       "      <td>2</td>\n",
       "      <td>1000.00</td>\n",
       "    </tr>\n",
       "    <tr>\n",
       "      <th>3</th>\n",
       "      <td>CustomerId_988</td>\n",
       "      <td>5</td>\n",
       "      <td>38</td>\n",
       "      <td>228727.20</td>\n",
       "    </tr>\n",
       "    <tr>\n",
       "      <th>5</th>\n",
       "      <td>CustomerId_1432</td>\n",
       "      <td>90</td>\n",
       "      <td>1</td>\n",
       "      <td>2000.00</td>\n",
       "    </tr>\n",
       "    <tr>\n",
       "      <th>6</th>\n",
       "      <td>CustomerId_2858</td>\n",
       "      <td>5</td>\n",
       "      <td>29</td>\n",
       "      <td>93400.00</td>\n",
       "    </tr>\n",
       "  </tbody>\n",
       "</table>\n",
       "</div>"
      ],
      "text/plain": [
       "        CustomerId  Recency  Frequency   Monetary\n",
       "0  CustomerId_4406        0        119  109921.75\n",
       "2  CustomerId_4683       81          2    1000.00\n",
       "3   CustomerId_988        5         38  228727.20\n",
       "5  CustomerId_1432       90          1    2000.00\n",
       "6  CustomerId_2858        5         29   93400.00"
      ]
     },
     "execution_count": 10,
     "metadata": {},
     "output_type": "execute_result"
    }
   ],
   "source": [
    "# Calculate Recency, Frequency, and Monetary metrics using the RFM model\n",
    "rfm_df = rfm.calculate_rfm()\n",
    "\n",
    "# Display the first five rows of the RFM DataFrame\n",
    "print(\"Calculated RFM metrics for the first five customers:\")\n",
    "print(\"=========================================================\")\n",
    "rfm_df[['CustomerId', 'Recency', 'Frequency', 'Monetary']].head()"
   ]
  },
  {
   "cell_type": "code",
   "execution_count": 11,
   "id": "4958c809",
   "metadata": {},
   "outputs": [
    {
     "name": "stdout",
     "output_type": "stream",
     "text": [
      "        CustomerId  Recency  Frequency   Monetary  RFM_Score Risk_Label\n",
      "0  CustomerId_4406        0        119  109921.75         12       Good\n",
      "2  CustomerId_4683       81          2    1000.00          3        Bad\n",
      "3   CustomerId_988        5         38  228727.20         12       Good\n",
      "5  CustomerId_1432       90          1    2000.00          3        Bad\n",
      "6  CustomerId_2858        5         29   93400.00         12       Good\n"
     ]
    }
   ],
   "source": [
    "\n",
    "\n",
    "# Calculate quartiles explicitly using .loc\n",
    "rfm_df = rfm_df.copy()  # Ensure you're working on a copy\n",
    "\n",
    "# Assign R, F, M quartiles\n",
    "rfm_df.loc[:, 'r_quartile'] = pd.qcut(rfm_df['Recency'], 4, labels=['4', '3', '2', '1'])\n",
    "rfm_df.loc[:, 'f_quartile'] = pd.qcut(rfm_df['Frequency'], 4, labels=['1', '2', '3', '4'])\n",
    "rfm_df.loc[:, 'm_quartile'] = pd.qcut(rfm_df['Monetary'], 4, labels=['1', '2', '3', '4'])\n",
    "\n",
    "# Compute the RFM score\n",
    "rfm_df.loc[:, 'RFM_Score'] = (\n",
    "    rfm_df['r_quartile'].astype(int) +\n",
    "    rfm_df['f_quartile'].astype(int) +\n",
    "    rfm_df['m_quartile'].astype(int)\n",
    ")\n",
    "\n",
    "# Define a risk label based on the RFM score using a threshold\n",
    "low_threshold = 5  # Example threshold; adjust as needed\n",
    "rfm_df.loc[:, 'Risk_Label'] = rfm_df['RFM_Score'].apply(\n",
    "    lambda x: 'Good' if x >= low_threshold else 'Bad'\n",
    ")\n",
    "\n",
    "# Select the required columns to display\n",
    "rfm_df_scores = rfm_df[['CustomerId', 'Recency', 'Frequency', 'Monetary', 'RFM_Score', 'Risk_Label']]\n",
    "print(rfm_df_scores.head())\n",
    "\n"
   ]
  },
  {
   "cell_type": "code",
   "execution_count": 12,
   "id": "be541b54",
   "metadata": {},
   "outputs": [],
   "source": [
    "# Create a mapping dictionary\n",
    "risk_label_mapping = {'Good': 1, 'Bad': 0}\n",
    "\n",
    "# Fill NaN values with a default value (e.g., 'Bad') before applying the mapping\n",
    "rfm_df.loc[:, 'Risk_Label'] = rfm_df['Risk_Label'].fillna('Bad')\n",
    "\n",
    "# Map the Risk_Label to binary values\n",
    "rfm_df.loc[:, 'Risk_Label'] = rfm_df['Risk_Label'].map(risk_label_mapping)\n",
    "\n",
    "# Explicitly cast the column to int64 to avoid dtype compatibility issues\n",
    "rfm_df.loc[:, 'Risk_Label'] = rfm_df['Risk_Label'].astype('int64')\n",
    "\n",
    "# Extract relevant features for merging\n",
    "rfm_data = rfm_df[['CustomerId', 'Recency', 'Frequency', 'Monetary', 'Risk_Label']]\n",
    "\n",
    "# Extract unique rows based on CustomerId\n",
    "df_normalized_unique = df_normalized.drop_duplicates(subset='CustomerId', keep='first')\n",
    "\n",
    "# Merge the data\n",
    "features = pd.merge(df_normalized_unique, rfm_data, on='CustomerId', how='left')\n",
    "\n",
    "# Set the CustomerId to index\n",
    "features.set_index('CustomerId', inplace=True)\n",
    "\n",
    "# Drop the irrelevant features\n",
    "features.drop(columns=['TransactionStartTime'], inplace=True)\n",
    "\n",
    "# Set the target variable\n",
    "target = rfm_df['Risk_Label']"
   ]
  },
  {
   "cell_type": "code",
   "execution_count": 13,
   "id": "699c1190",
   "metadata": {},
   "outputs": [
    {
     "data": {
      "text/plain": [
       "Index(['TransactionId', 'BatchId', 'AccountId', 'SubscriptionId',\n",
       "       'CurrencyCode', 'CountryCode', 'ProviderId', 'ProductId',\n",
       "       'ProductCategory', 'ChannelId', 'Amount', 'Value', 'PricingStrategy',\n",
       "       'FraudResult', 'Recency', 'Frequency', 'Monetary', 'Risk_Label'],\n",
       "      dtype='object')"
      ]
     },
     "execution_count": 13,
     "metadata": {},
     "output_type": "execute_result"
    }
   ],
   "source": [
    "features.columns"
   ]
  },
  {
   "cell_type": "code",
   "execution_count": 18,
   "id": "048fde9b",
   "metadata": {},
   "outputs": [],
   "source": [
    "import pandas as pd\n",
    "\n",
    "# Check if 'Risk_Label' exists and is numeric\n",
    "if 'Risk_Label' not in features.columns:\n",
    "    raise ValueError(\"❌ 'Risk_Label' column not found in your dataset.\")\n",
    "\n",
    "# Convert 'Risk_Label' to numeric if needed (optional depending on data)\n",
    "features['Risk_Label'] = pd.to_numeric(features['Risk_Label'], errors='coerce')\n",
    "\n",
    "# Select only numeric columns\n",
    "numeric_features = features.select_dtypes(include=['number'])\n",
    "\n",
    "# Check again if 'Risk_Label' is in the numeric set\n",
    "if 'Risk_Label' not in numeric_features.columns:\n",
    "    raise ValueError(\"❌ 'Risk_Label' is not numeric and can't be used in correlation.\")\n",
    "\n",
    "# Calculate the correlation matrix\n",
    "correlation_matrix = numeric_features.corr()\n",
    "\n",
    "# Get correlation with target\n",
    "corr_with_target = correlation_matrix['Risk_Label'].abs()\n",
    "\n",
    "# Select features with correlation > 0.1\n",
    "selected_features = corr_with_target[corr_with_target > 0.1].index.tolist()\n",
    "selected_features.remove('Risk_Label')  # remove target itself\n",
    "\n",
    "# Filter the original features DataFrame\n",
    "features = features[selected_features + ['Risk_Label']]\n"
   ]
  },
  {
   "cell_type": "code",
   "execution_count": 19,
   "id": "ad30eebb",
   "metadata": {},
   "outputs": [
    {
     "data": {
      "text/html": [
       "<div>\n",
       "<style scoped>\n",
       "    .dataframe tbody tr th:only-of-type {\n",
       "        vertical-align: middle;\n",
       "    }\n",
       "\n",
       "    .dataframe tbody tr th {\n",
       "        vertical-align: top;\n",
       "    }\n",
       "\n",
       "    .dataframe thead th {\n",
       "        text-align: right;\n",
       "    }\n",
       "</style>\n",
       "<table border=\"1\" class=\"dataframe\">\n",
       "  <thead>\n",
       "    <tr style=\"text-align: right;\">\n",
       "      <th></th>\n",
       "      <th>index</th>\n",
       "      <th>Correlation with Risk_Label</th>\n",
       "    </tr>\n",
       "  </thead>\n",
       "  <tbody>\n",
       "    <tr>\n",
       "      <th>0</th>\n",
       "      <td>Risk_Label</td>\n",
       "      <td>1.000000</td>\n",
       "    </tr>\n",
       "    <tr>\n",
       "      <th>1</th>\n",
       "      <td>Recency</td>\n",
       "      <td>0.534249</td>\n",
       "    </tr>\n",
       "    <tr>\n",
       "      <th>2</th>\n",
       "      <td>PricingStrategy</td>\n",
       "      <td>0.141034</td>\n",
       "    </tr>\n",
       "    <tr>\n",
       "      <th>3</th>\n",
       "      <td>Frequency</td>\n",
       "      <td>0.113603</td>\n",
       "    </tr>\n",
       "    <tr>\n",
       "      <th>4</th>\n",
       "      <td>Amount</td>\n",
       "      <td>0.049348</td>\n",
       "    </tr>\n",
       "    <tr>\n",
       "      <th>5</th>\n",
       "      <td>Value</td>\n",
       "      <td>0.044485</td>\n",
       "    </tr>\n",
       "    <tr>\n",
       "      <th>6</th>\n",
       "      <td>Monetary</td>\n",
       "      <td>0.029202</td>\n",
       "    </tr>\n",
       "    <tr>\n",
       "      <th>7</th>\n",
       "      <td>FraudResult</td>\n",
       "      <td>0.021644</td>\n",
       "    </tr>\n",
       "    <tr>\n",
       "      <th>8</th>\n",
       "      <td>CountryCode</td>\n",
       "      <td>NaN</td>\n",
       "    </tr>\n",
       "  </tbody>\n",
       "</table>\n",
       "</div>"
      ],
      "text/plain": [
       "             index  Correlation with Risk_Label\n",
       "0       Risk_Label                     1.000000\n",
       "1          Recency                     0.534249\n",
       "2  PricingStrategy                     0.141034\n",
       "3        Frequency                     0.113603\n",
       "4           Amount                     0.049348\n",
       "5            Value                     0.044485\n",
       "6         Monetary                     0.029202\n",
       "7      FraudResult                     0.021644\n",
       "8      CountryCode                          NaN"
      ]
     },
     "execution_count": 19,
     "metadata": {},
     "output_type": "execute_result"
    }
   ],
   "source": [
    "corr_with_target.sort_values(ascending=False).reset_index(name='Correlation with Risk_Label')"
   ]
  },
  {
   "cell_type": "code",
   "execution_count": 20,
   "id": "d44af311",
   "metadata": {},
   "outputs": [
    {
     "data": {
      "text/plain": [
       "Index(['PricingStrategy', 'Recency', 'Frequency', 'Risk_Label'], dtype='object')"
      ]
     },
     "execution_count": 20,
     "metadata": {},
     "output_type": "execute_result"
    }
   ],
   "source": [
    "features.columns"
   ]
  },
  {
   "cell_type": "code",
   "execution_count": 21,
   "id": "2e88b260",
   "metadata": {},
   "outputs": [
    {
     "name": "stdout",
     "output_type": "stream",
     "text": [
      "Separated features (X) with shape: (3742, 4)\n",
      "Separated target (y) with shape: (3742,)\n"
     ]
    }
   ],
   "source": [
    "\n",
    "\n",
    "# Separate target and feature variables\n",
    "X = features\n",
    "y = target\n",
    "# Print the shapes of the separated variables\n",
    "print(\"Separated features (X) with shape:\", X.shape)\n",
    "print(\"Separated target (y) with shape:\", y.shape)\n",
    "\n"
   ]
  },
  {
   "cell_type": "code",
   "execution_count": 22,
   "id": "b50aa6ec",
   "metadata": {},
   "outputs": [],
   "source": [
    "from sklearn.model_selection import train_test_split, GridSearchCV\n",
    "from sklearn.preprocessing import MinMaxScaler, StandardScaler\n",
    "from sklearn.pipeline import Pipeline\n",
    "from sklearn.ensemble import RandomForestClassifier, GradientBoostingClassifier\n",
    "from sklearn.linear_model import LogisticRegression\n",
    "from sklearn.tree import DecisionTreeClassifier\n",
    "from sklearn.metrics import accuracy_score, precision_score, recall_score, f1_score, roc_auc_score, classification_report\n",
    "\n"
   ]
  },
  {
   "cell_type": "code",
   "execution_count": 23,
   "id": "95a1ab31",
   "metadata": {},
   "outputs": [
    {
     "name": "stdout",
     "output_type": "stream",
     "text": [
      "Train and test sets created:\n",
      "X_train shape: (2993, 4)\n",
      "X_test shape: (749, 4)\n",
      "y_train shape: (2993,)\n",
      "y_test shape: (749,)\n"
     ]
    }
   ],
   "source": [
    "import pandas as pd\n",
    "from sklearn.model_selection import train_test_split\n",
    "\n",
    "# Check for NaN values in the target variable\n",
    "if y.isnull().any():\n",
    "    print(\"NaN values found in the target variable. Handling NaN values...\")\n",
    "\n",
    "    # Option 1: Drop NaN values\n",
    "    # Combine features and target for dropping NaNs\n",
    "    data = pd.concat([X, y], axis=1)\n",
    "    data = data.dropna()\n",
    "    \n",
    "    # Separate features and target again\n",
    "    X = data.drop(columns=[y.name])  # Replace y.name with the actual name of your target variable if necessary\n",
    "    y = data[y.name]  # Replace y.name with the actual name of your target variable if necessary\n",
    "\n",
    "    print(\"NaN values dropped. New shapes:\")\n",
    "    print(\"Features (X) shape:\", X.shape)\n",
    "    print(\"Target (y) shape:\", y.shape)\n",
    "\n",
    "    # Option 2: Fill NaN values (if needed)\n",
    "    # y.fillna(y.median(), inplace=True)  # Example: Fill with median\n",
    "    # print(\"NaN values filled.\")\n",
    "\n",
    "# Perform the train-test split\n",
    "X_train, X_test, y_train, y_test = train_test_split(X, y, test_size=0.2, stratify=y, random_state=42)\n",
    "\n",
    "print(\"Train and test sets created:\")\n",
    "print(\"X_train shape:\", X_train.shape)\n",
    "print(\"X_test shape:\", X_test.shape)\n",
    "print(\"y_train shape:\", y_train.shape)\n",
    "print(\"y_test shape:\", y_test.shape)"
   ]
  },
  {
   "cell_type": "code",
   "execution_count": 24,
   "id": "9faf7e1c",
   "metadata": {},
   "outputs": [
    {
     "name": "stdout",
     "output_type": "stream",
     "text": [
      "Original training data shapes:\n",
      "X_train shape: (2993, 4)\n",
      "y_train shape: (2993,)\n",
      "\n",
      "Resampled training data shapes:\n",
      "X_resampled shape: (4936, 4)\n",
      "y_resampled shape: (4936,)\n"
     ]
    }
   ],
   "source": [
    "from imblearn.over_sampling import SMOTE\n",
    "\n",
    "# Ensure y_train is of integer type\n",
    "y_train = y_train.astype(int)\n",
    "\n",
    "# Initialize SMOTE\n",
    "smote = SMOTE(random_state=42)\n",
    "\n",
    "# Fit and resample the training data\n",
    "X_resampled, y_resampled = smote.fit_resample(X_train, y_train)\n",
    "\n",
    "# Print the shapes of the original and resampled datasets\n",
    "print(\"Original training data shapes:\")\n",
    "print(\"X_train shape:\", X_train.shape)\n",
    "print(\"y_train shape:\", y_train.shape)\n",
    "\n",
    "print(\"\\nResampled training data shapes:\")\n",
    "print(\"X_resampled shape:\", X_resampled.shape)\n",
    "print(\"y_resampled shape:\", y_resampled.shape)"
   ]
  },
  {
   "cell_type": "code",
   "execution_count": 25,
   "id": "e57fcdca",
   "metadata": {},
   "outputs": [
    {
     "name": "stdout",
     "output_type": "stream",
     "text": [
      "Defining models...\n",
      "Models defined: ['Logistic Regression', 'Decision Tree', 'Random Forest', 'Gradient Boosting']\n",
      "\n",
      "Defining hyperparameter grids...\n",
      "Hyperparameter grids defined for each model.\n",
      "\n",
      "Creating pipelines for each model...\n",
      "Pipelines created.\n",
      "\n",
      "Setting up GridSearchCV for each model...\n",
      "GridSearchCV set up for each model pipeline.\n"
     ]
    }
   ],
   "source": [
    "# Define models\n",
    "print(\"Defining models...\")\n",
    "models = {\n",
    "    'Logistic Regression': LogisticRegression(),\n",
    "    'Decision Tree': DecisionTreeClassifier(),\n",
    "    'Random Forest': RandomForestClassifier(),\n",
    "    'Gradient Boosting': GradientBoostingClassifier()\n",
    "}\n",
    "print(\"Models defined:\", list(models.keys()))\n",
    "\n",
    "# Define hyperparameter grids for each model\n",
    "print(\"\\nDefining hyperparameter grids...\")\n",
    "param_grids = {\n",
    "    'Logistic Regression': {'classifier__C': [0.01, 0.1, 1, 10, 100]},\n",
    "    'Decision Tree': {'classifier__max_depth': [3, 5, 7, None]},\n",
    "    'Random Forest': {'classifier__n_estimators': [50, 100, 200], 'classifier__max_depth': [None, 5, 10]},\n",
    "    'Gradient Boosting': {'classifier__learning_rate': [0.01, 0.1, 0.2], 'classifier__n_estimators': [50, 100, 200]}\n",
    "}\n",
    "print(\"Hyperparameter grids defined for each model.\")\n",
    "\n",
    "# Define pipelines\n",
    "print(\"\\nCreating pipelines for each model...\")\n",
    "pipelines = {name: Pipeline([\n",
    "    ('scaler', StandardScaler()),  # Standardize the data\n",
    "    ('classifier', model)  # The model to be trained\n",
    "]) for name, model in models.items()}\n",
    "print(\"Pipelines created.\")\n",
    "\n",
    "# Set up GridSearchCV for each model pipeline\n",
    "print(\"\\nSetting up GridSearchCV for each model...\")\n",
    "grid_searches = {\n",
    "    name: GridSearchCV(estimator=pipeline, param_grid=param_grids[name], cv=5, scoring='accuracy')\n",
    "    for name, pipeline in pipelines.items()\n",
    "}\n",
    "print(\"GridSearchCV set up for each model pipeline.\")"
   ]
  },
  {
   "cell_type": "code",
   "execution_count": 26,
   "id": "0195752b",
   "metadata": {},
   "outputs": [
    {
     "name": "stdout",
     "output_type": "stream",
     "text": [
      "Starting training of models with the resampled dataset...\n",
      "\n",
      "Training Logistic Regression model...\n",
      "Logistic Regression model trained with best parameters: {'classifier__C': 0.01}\n",
      "\n",
      "Training Decision Tree model...\n",
      "Decision Tree model trained with best parameters: {'classifier__max_depth': 3}\n",
      "\n",
      "Training Random Forest model...\n",
      "Random Forest model trained with best parameters: {'classifier__max_depth': None, 'classifier__n_estimators': 50}\n",
      "\n",
      "Training Gradient Boosting model...\n",
      "Gradient Boosting model trained with best parameters: {'classifier__learning_rate': 0.01, 'classifier__n_estimators': 50}\n",
      "\n",
      "All models have been trained.\n"
     ]
    }
   ],
   "source": [
    "# Train each pipeline with the resampled dataset\n",
    "print(\"Starting training of models with the resampled dataset...\\n\")\n",
    "for name, grid_search in grid_searches.items():\n",
    "    print(f\"Training {name} model...\")\n",
    "    grid_search.fit(X_resampled, y_resampled)\n",
    "    print(f\"{name} model trained with best parameters: {grid_search.best_params_}\\n\")\n",
    "\n",
    "print(\"All models have been trained.\")"
   ]
  },
  {
   "cell_type": "code",
   "execution_count": 27,
   "id": "8a4142da",
   "metadata": {},
   "outputs": [
    {
     "name": "stdout",
     "output_type": "stream",
     "text": [
      "Updated y_test data type: int64\n",
      "y_test data type: int64\n",
      "Unique values in y_test: [0 1]\n"
     ]
    }
   ],
   "source": [
    "import numpy as np\n",
    "\n",
    "# Convert y_test to integer type\n",
    "y_test = y_test.astype(int)\n",
    "\n",
    "# Verify the data type after conversion\n",
    "print(\"Updated y_test data type:\", y_test.dtype)\n",
    "print(\"y_test data type:\", y_test.dtype)\n",
    "print(\"Unique values in y_test:\", np.unique(y_test))"
   ]
  },
  {
   "cell_type": "code",
   "execution_count": 28,
   "id": "1a72074d",
   "metadata": {},
   "outputs": [
    {
     "name": "stdout",
     "output_type": "stream",
     "text": [
      "Calculating performance metrics for each model...\n",
      "\n",
      "Evaluating Logistic Regression model...\n",
      "Logistic Regression model evaluation complete. Metrics calculated:\n",
      "{'Accuracy': 1.0, 'Precision': 1.0, 'Recall': 1.0, 'F1 Score': 1.0, 'ROC AUC': np.float64(1.0)}\n",
      "\n",
      "Evaluating Decision Tree model...\n",
      "Decision Tree model evaluation complete. Metrics calculated:\n",
      "{'Accuracy': 1.0, 'Precision': 1.0, 'Recall': 1.0, 'F1 Score': 1.0, 'ROC AUC': np.float64(1.0)}\n",
      "\n",
      "Evaluating Random Forest model...\n",
      "Random Forest model evaluation complete. Metrics calculated:\n",
      "{'Accuracy': 1.0, 'Precision': 1.0, 'Recall': 1.0, 'F1 Score': 1.0, 'ROC AUC': np.float64(1.0)}\n",
      "\n",
      "Evaluating Gradient Boosting model...\n",
      "Gradient Boosting model evaluation complete. Metrics calculated:\n",
      "{'Accuracy': 1.0, 'Precision': 1.0, 'Recall': 1.0, 'F1 Score': 1.0, 'ROC AUC': np.float64(1.0)}\n",
      "\n",
      "All models have been evaluated.\n"
     ]
    }
   ],
   "source": [
    "# Initialize a dictionary to store performance metrics\n",
    "performance_metrics = {}\n",
    "y_probs = {}\n",
    "\n",
    "print(\"Calculating performance metrics for each model...\\n\")\n",
    "\n",
    "for name, pipeline in grid_searches.items():\n",
    "    print(f\"Evaluating {name} model...\")\n",
    "    \n",
    "    # Predictions on the test set\n",
    "    y_pred = pipeline.predict(X_test)\n",
    "    y_prob = pipeline.predict_proba(X_test)[:, 1]  # Get probabilities for the positive class\n",
    "    y_probs[name] = y_prob  # Store probabilities for ROC curve\n",
    "\n",
    "    # Calculate metrics\n",
    "    performance_metrics[name] = {\n",
    "        'Accuracy': accuracy_score(y_test, y_pred),\n",
    "        'Precision': precision_score(y_test, y_pred),\n",
    "        'Recall': recall_score(y_test, y_pred),\n",
    "        'F1 Score': f1_score(y_test, y_pred),\n",
    "        'ROC AUC': roc_auc_score(y_test, y_prob)\n",
    "    }\n",
    "    \n",
    "    print(f\"{name} model evaluation complete. Metrics calculated:\\n{performance_metrics[name]}\\n\")\n",
    "\n",
    "print(\"All models have been evaluated.\")"
   ]
  },
  {
   "cell_type": "code",
   "execution_count": 29,
   "id": "736f427b",
   "metadata": {},
   "outputs": [
    {
     "name": "stdout",
     "output_type": "stream",
     "text": [
      "Creating a DataFrame from the performance metrics...\n",
      "Performance metrics DataFrame created:\n",
      "\n"
     ]
    },
    {
     "data": {
      "text/html": [
       "<div>\n",
       "<style scoped>\n",
       "    .dataframe tbody tr th:only-of-type {\n",
       "        vertical-align: middle;\n",
       "    }\n",
       "\n",
       "    .dataframe tbody tr th {\n",
       "        vertical-align: top;\n",
       "    }\n",
       "\n",
       "    .dataframe thead th {\n",
       "        text-align: right;\n",
       "    }\n",
       "</style>\n",
       "<table border=\"1\" class=\"dataframe\">\n",
       "  <thead>\n",
       "    <tr style=\"text-align: right;\">\n",
       "      <th></th>\n",
       "      <th>Accuracy</th>\n",
       "      <th>Precision</th>\n",
       "      <th>Recall</th>\n",
       "      <th>F1 Score</th>\n",
       "      <th>ROC AUC</th>\n",
       "    </tr>\n",
       "  </thead>\n",
       "  <tbody>\n",
       "    <tr>\n",
       "      <th>Logistic Regression</th>\n",
       "      <td>1.0</td>\n",
       "      <td>1.0</td>\n",
       "      <td>1.0</td>\n",
       "      <td>1.0</td>\n",
       "      <td>1.0</td>\n",
       "    </tr>\n",
       "    <tr>\n",
       "      <th>Decision Tree</th>\n",
       "      <td>1.0</td>\n",
       "      <td>1.0</td>\n",
       "      <td>1.0</td>\n",
       "      <td>1.0</td>\n",
       "      <td>1.0</td>\n",
       "    </tr>\n",
       "    <tr>\n",
       "      <th>Random Forest</th>\n",
       "      <td>1.0</td>\n",
       "      <td>1.0</td>\n",
       "      <td>1.0</td>\n",
       "      <td>1.0</td>\n",
       "      <td>1.0</td>\n",
       "    </tr>\n",
       "    <tr>\n",
       "      <th>Gradient Boosting</th>\n",
       "      <td>1.0</td>\n",
       "      <td>1.0</td>\n",
       "      <td>1.0</td>\n",
       "      <td>1.0</td>\n",
       "      <td>1.0</td>\n",
       "    </tr>\n",
       "  </tbody>\n",
       "</table>\n",
       "</div>"
      ],
      "text/plain": [
       "                     Accuracy  Precision  Recall  F1 Score  ROC AUC\n",
       "Logistic Regression       1.0        1.0     1.0       1.0      1.0\n",
       "Decision Tree             1.0        1.0     1.0       1.0      1.0\n",
       "Random Forest             1.0        1.0     1.0       1.0      1.0\n",
       "Gradient Boosting         1.0        1.0     1.0       1.0      1.0"
      ]
     },
     "execution_count": 29,
     "metadata": {},
     "output_type": "execute_result"
    }
   ],
   "source": [
    "# Create a DataFrame from the performance metrics\n",
    "print(\"Creating a DataFrame from the performance metrics...\")\n",
    "performance_df = pd.DataFrame(performance_metrics).T\n",
    "\n",
    "# Display the DataFrame\n",
    "print(\"Performance metrics DataFrame created:\\n\")\n",
    "performance_df"
   ]
  },
  {
   "cell_type": "markdown",
   "id": "81d33517",
   "metadata": {},
   "source": [
    "## visualization"
   ]
  },
  {
   "cell_type": "code",
   "execution_count": 30,
   "id": "9440f078",
   "metadata": {},
   "outputs": [
    {
     "name": "stdout",
     "output_type": "stream",
     "text": [
      "Calculating ROC curve for Logistic Regression model...\n",
      "Calculating ROC curve for Decision Tree model...\n",
      "Calculating ROC curve for Random Forest model...\n",
      "Calculating ROC curve for Gradient Boosting model...\n"
     ]
    },
    {
     "data": {
      "image/png": "[encoded data removed]",
      "text/plain": [
       "<Figure size 1000x600 with 1 Axes>"
      ]
     },
     "metadata": {},
     "output_type": "display_data"
    },
    {
     "name": "stdout",
     "output_type": "stream",
     "text": [
      "ROC curve plot displayed.\n"
     ]
    }
   ],
   "source": [
    "import matplotlib.pyplot as plt\n",
    "from sklearn.metrics import roc_curve, auc\n",
    "\n",
    "# Set up the plot\n",
    "plt.figure(figsize=(10, 6))\n",
    "\n",
    "# Loop through each model's predicted probabilities\n",
    "colors = ['blue', 'green', 'orange', 'red']  # Define colors for each model\n",
    "for (model_name, probs), color in zip(y_probs.items(), colors):\n",
    "    print(f\"Calculating ROC curve for {model_name} model...\")\n",
    "    fpr, tpr, _ = roc_curve(y_test, probs)\n",
    "    roc_auc = auc(fpr, tpr)\n",
    "    \n",
    "    # Plot ROC curve\n",
    "    plt.plot(fpr, tpr, label=f'{model_name} (AUC = {roc_auc:.2f})', color=color, linewidth=2)\n",
    "\n",
    "# Plot settings\n",
    "plt.plot([0, 1], [0, 1], 'k--', linewidth=1)  # Dashed diagonal line\n",
    "plt.xlim([0.0, 1.0])\n",
    "plt.ylim([0.0, 1.05])\n",
    "plt.xlabel('False Positive Rate', fontsize=12)\n",
    "plt.ylabel('True Positive Rate', fontsize=12)\n",
    "plt.title('Receiver Operating Characteristic (ROC) Curve', fontsize=14)\n",
    "plt.legend(loc='lower right', fontsize=10)\n",
    "plt.grid(alpha=0.3)  # Light grid for better visibility\n",
    "\n",
    "# Show the plot\n",
    "plt.tight_layout()\n",
    "plt.show()\n",
    "print(\"ROC curve plot displayed.\")"
   ]
  }
 ],
 "metadata": {
  "kernelspec": {
   "display_name": "myenv",
   "language": "python",
   "name": "python3"
  },
  "language_info": {
   "codemirror_mode": {
    "name": "ipython",
    "version": 3
   },
   "file_extension": ".py",
   "mimetype": "text/x-python",
   "name": "python",
   "nbconvert_exporter": "python",
   "pygments_lexer": "ipython3",
   "version": "3.10.6"
  }
 },
 "nbformat": 4,
 "nbformat_minor": 5
}
